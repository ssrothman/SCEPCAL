{
 "cells": [
  {
   "cell_type": "code",
   "execution_count": null,
   "id": "c461bfc0",
   "metadata": {
    "collapsed": false,
    "jupyter": {
     "outputs_hidden": false
    },
    "pycharm": {
     "name": "#%%\n"
    }
   },
   "outputs": [],
   "source": [
    "import sys\n",
    "import numpy as np\n",
    "import array\n",
    "from math import sqrt, fabs, sin, exp, log10\n",
    "import matplotlib\n",
    "import matplotlib.pyplot as plt\n",
    "import plotly\n",
    "import plotly.graph_objs as go\n",
    "plotly.offline.init_notebook_mode()"
   ]
  },
  {
   "cell_type": "code",
   "execution_count": null,
   "id": "c4f17443",
   "metadata": {},
   "outputs": [],
   "source": [
    "# Load from HDF5 file\n",
    "\n",
    "from scepcal_utils import *\n",
    "\n",
    "hdf5file = 'gamma_10MeV_opt_simplehit_edep0_n1.hdf5'\n",
    "SDhits_allevents, MCP_allevents = load_allevents_from_hdf5(hdf5file)\n",
    "\n",
    "SDhits = SDhits_allevents[0] #event number 0\n",
    "MCcoll = MCP_allevents[0]\n"
   ]
  },
  {
   "cell_type": "code",
   "execution_count": null,
   "id": "615f8181",
   "metadata": {},
   "outputs": [],
   "source": [
    "# Load from ROOT file\n",
    "\n",
    "import ROOT\n",
    "from ROOT import TFile, TTree, TChain, TBranch, TH1D, TH1I, TH1F, TH2F, Math\n",
    "from ROOT import TLorentzVector\n",
    "from ROOT.Math import LorentzVector, VectorUtil\n",
    "\n",
    "from scepcal_utils import *\n",
    "\n",
    "rootfile = 'gamma_10MeV_opt_simplehit_edep0_n1.root'\n",
    "SDhits_allevents, MCP_allevents = load_allevents_from_ROOT(rootfile)\n",
    "\n",
    "SDhits = SDhits_allevents[0] #event number 0\n",
    "MCcoll = MCP_allevents[0]"
   ]
  },
  {
   "cell_type": "code",
   "execution_count": null,
   "id": "02552d68-fdc7-4e20-8c5a-a47f3828da51",
   "metadata": {},
   "outputs": [],
   "source": [
    "# Plot hits in 3D\n",
    "\n",
    "barrelHits = HitCollection( [ h for h in SDhits if h.system==1] )\n",
    "endcapHits = HitCollection( [ h for h in SDhits if h.system==2] )\n",
    "timingHits = HitCollection( [ h for h in SDhits if h.system==3] )\n",
    "\n",
    "layout = go.Layout(\n",
    "    autosize=False,\n",
    "    width=1000,\n",
    "    height=1000,\n",
    "    scene = dict(\n",
    "                xaxis = dict(range=[-250,250],),\n",
    "                yaxis = dict(range=[-250,250],),\n",
    "                zaxis = dict(range=[-250,250],),\n",
    "            )\n",
    "    )\n",
    "\n",
    "data = []\n",
    "\n",
    "barrelMarkers = go.Scatter3d(\n",
    "        x=barrelHits.x,\n",
    "        y=barrelHits.y,\n",
    "        z=barrelHits.z,\n",
    "        mode='markers',\n",
    "        marker={'size': 1}\n",
    "    )\n",
    "\n",
    "endcapMarkers = go.Scatter3d(\n",
    "        x=endcapHits.x,\n",
    "        y=endcapHits.y,\n",
    "        z=endcapHits.z,\n",
    "        mode='markers',\n",
    "        marker={'size': 5}\n",
    "    )\n",
    "\n",
    "timingMarkers = go.Scatter3d(\n",
    "        x=timingHits.x,\n",
    "        y=timingHits.y,\n",
    "        z=timingHits.z,\n",
    "        mode='markers',\n",
    "        marker={'size': 5}\n",
    "    )\n",
    "\n",
    "data.extend([barrelMarkers, endcapMarkers, timingMarkers])\n",
    "\n",
    "fig = go.Figure(data=data, layout=layout)\n",
    "plotly.offline.iplot(fig) "
   ]
  }
 ],
 "metadata": {
  "kernelspec": {
   "display_name": "Python 3",
   "language": "python",
   "name": "python3"
  },
  "language_info": {
   "codemirror_mode": {
    "name": "ipython",
    "version": 3
   },
   "file_extension": ".py",
   "mimetype": "text/x-python",
   "name": "python",
   "nbconvert_exporter": "python",
   "pygments_lexer": "ipython3",
   "version": "3.9.18"
  }
 },
 "nbformat": 4,
 "nbformat_minor": 5
}
